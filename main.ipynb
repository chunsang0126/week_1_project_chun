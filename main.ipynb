{
 "cells": [
  {
   "cell_type": "code",
   "execution_count": null,
   "metadata": {},
   "outputs": [
    {
     "name": "stdout",
     "output_type": "stream",
     "text": [
      "Please input a range: 100\n",
      "\n",
      "Okay you have 3 chances. Go ahead\n"
     ]
    }
   ],
   "source": [
    "# getting input from player\n",
    "import random\n",
    "\n",
    "guess = 10101010\n",
    "\n",
    "while guess != THE_NUMBER:\n",
    "\n",
    "    range_of_guess = int(input ('Please input a range: '))\n",
    "\n",
    "    lower = 0\n",
    "    upper = range_of_guess\n",
    "\n",
    "    THE_NUMBER = random.randint(lower,upper)\n",
    "\n",
    "#--------------------------------------------------------------------\n",
    "# determining the no of guess allowed\n",
    "\n",
    "    if range_of_guess <= 100:\n",
    "\n",
    "#no_of_guess = 3\n",
    "        \n",
    "        print ('\\nOkay you have 3 chances. Go ahead')\n",
    "        iterator = iter([1,2,3])\n",
    "\n",
    "    else :\n",
    "        \n",
    "#no_of_guess = 5\n",
    "        \n",
    "        print (\"\\nNow you have 5 chances. \")\n",
    "        iterator = iter([1,2,3,4,5])\n",
    "\n",
    "#--------------------------------------------------------------------\n",
    "# getting input from player  \n",
    "    \n",
    "    for i in iterator:\n",
    "        \n",
    "\n",
    "        \n",
    "        guess = int(input ('\\nMake a guess: '))\n",
    "        \n",
    "#--------------------------------------------------------------------\n",
    "# retry when it is out of range\n",
    "        \n",
    "        if guess < lower or guess > upper:\n",
    "            guess = int(input ('\\nThe number is out of range. Please input another number.'))\n",
    "\n",
    "#--------------------------------------------------------------------\n",
    "# comparing and resetting the boundary for each guess\n",
    "   \n",
    "        new_boundary = guess\n",
    "    \n",
    "        if guess < THE_NUMBER:\n",
    "        \n",
    "            lower = new_boundary\n",
    "         \n",
    "            print (f'\\nNope. Now guess between {lower} and {upper}')\n",
    "                            \n",
    "            \n",
    "        \n",
    "        elif guess > THE_NUMBER:\n",
    "        \n",
    "            upper = new_boundary\n",
    "        \n",
    "            print (f'\\nNope. Now guess between {lower} and {upper}')\n",
    "                \n",
    "           \n",
    "                \n",
    "        elif guess == THE_NUMBER:\n",
    "            print ('\\nCongratulations! You got it')\n",
    "                   \n",
    "\n",
    "    if guess != THE_NUMBER:\n",
    "        print(f\"You wish. The number is {THE_NUMBER}. Game Over.\")\n",
    "        \n",
    "#--------------------------------------------------------------------\n",
    "# conintue or not    \n",
    "    \n",
    "    x = input ('Do you want to continue? (yes/no) ')\n",
    "    \n",
    "    if x == 'yes' and guess == THE_NUMBER:\n",
    "        guess += 1\n",
    "        \n",
    "    if x == 'no' and guess != THE_NUMBER:\n",
    "        guess = THE_NUMBER\n",
    "    \n",
    "        "
   ]
  },
  {
   "cell_type": "code",
   "execution_count": null,
   "metadata": {},
   "outputs": [],
   "source": []
  },
  {
   "cell_type": "code",
   "execution_count": null,
   "metadata": {},
   "outputs": [],
   "source": []
  },
  {
   "cell_type": "code",
   "execution_count": null,
   "metadata": {},
   "outputs": [],
   "source": []
  },
  {
   "cell_type": "code",
   "execution_count": null,
   "metadata": {},
   "outputs": [],
   "source": []
  },
  {
   "cell_type": "code",
   "execution_count": null,
   "metadata": {},
   "outputs": [],
   "source": []
  }
 ],
 "metadata": {
  "kernelspec": {
   "display_name": "Python 3",
   "language": "python",
   "name": "python3"
  },
  "language_info": {
   "codemirror_mode": {
    "name": "ipython",
    "version": 3
   },
   "file_extension": ".py",
   "mimetype": "text/x-python",
   "name": "python",
   "nbconvert_exporter": "python",
   "pygments_lexer": "ipython3",
   "version": "3.7.2"
  }
 },
 "nbformat": 4,
 "nbformat_minor": 2
}
